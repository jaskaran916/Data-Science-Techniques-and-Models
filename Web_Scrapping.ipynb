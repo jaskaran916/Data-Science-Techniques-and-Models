{
 "cells": [
  {
   "cell_type": "code",
   "execution_count": 1,
   "id": "d2b7dfdb",
   "metadata": {},
   "outputs": [],
   "source": [
    "import requests   # Importing requests to extract content from a url\n",
    "from bs4 import BeautifulSoup as bs # Beautifulsoup is for web scrapping...used to scrap specific content \n",
    "import time"
   ]
  },
  {
   "cell_type": "code",
   "execution_count": 62,
   "id": "fd165d67",
   "metadata": {},
   "outputs": [],
   "source": [
    "HEADERS ={\"User-Agent\":\"Mozilla/5.0 (Windows NT 10.0; Win64; x64; rv:66.0) Gecko/20100101 Firefox/66.0\", \"Accept-Encoding\":\"gzip, deflate\", \"Accept\":\"text/html,application/xhtml+xml,application/xml;q=0.9,*/*;q=0.8\", \"DNT\":\"1\",\"Connection\":\"close\", \"Upgrade-Insecure-Requests\":\"1\"}\n",
    "\n",
    "oneplus_reviews=[]\n",
    "\n",
    "### Extracting reviews from Amazon website ################\n",
    "for i in range(1,10):\n",
    "    ip=[]  \n",
    "    url=\"https://www.amazon.in/OnePlus-Nord-Bahamas-128GB-Storage/product-reviews/B09RG5R5FG/ref=cm_cr_arp_d_paging_btm_next_2?ie=UTF8&reviewerType=all_reviews&pageNumber=\"+str(i)\n",
    "    response = requests.get(url,HEADERS)\n",
    "    soup = bs(response.content,\"html.parser\")# creating soup object to iterate over the extracted content \n",
    "    reviews = soup.findAll(\"span\",attrs={\"class\",\"a-size-base review-text review-text-content\"})# Extracting the content under specific tags  \n",
    "    for j in range(len(reviews)):\n",
    "        ip.append(reviews[j].text)  \n",
    "    oneplus_reviews = oneplus_reviews+ip # adding the reviews of one page to empty list which in future contains all the reviews\n",
    "    time.sleep(5)"
   ]
  },
  {
   "cell_type": "code",
   "execution_count": 64,
   "id": "7eeaaf2e",
   "metadata": {},
   "outputs": [
    {
     "data": {
      "text/plain": [
       "20"
      ]
     },
     "execution_count": 64,
     "metadata": {},
     "output_type": "execute_result"
    }
   ],
   "source": [
    "len(oneplus_reviews)"
   ]
  },
  {
   "cell_type": "code",
   "execution_count": 66,
   "id": "415d1e9b",
   "metadata": {},
   "outputs": [
    {
     "name": "stdout",
     "output_type": "stream",
     "text": [
      "[<span class=\"a-size-base review-text review-text-content\" data-hook=\"review-body\">\n",
      "<span>A good phone, fast charging sensors, battery life.. but at this price you expect the camera to be better than what it offers. Overall a nice phone.</span>\n",
      "</span>, <span class=\"a-size-base review-text review-text-content\" data-hook=\"review-body\">\n",
      "<span>Good phone in this price range. It heats up a little and drains battery little bit faster than expected. It works fine for medium use.</span>\n",
      "</span>, <span class=\"a-size-base review-text review-text-content\" data-hook=\"review-body\">\n",
      "<span>One+ has established itself as a brand so paying the premium price for this mobile<br/>Camera quality : ok, gets blurred during night and motion quite easily<br/>Battery : good and would last an entire day easily<br/>Body : good looking and rugged<br/>OS : smooth and easy operations</span>\n",
      "</span>, <span class=\"a-size-base review-text review-text-content\" data-hook=\"review-body\">\n",
      "<span>all average is ok but my Sony earbuds not connecting to this phone, if someone has solution pls let me know</span>\n",
      "</span>, <span class=\"a-size-base review-text review-text-content\" data-hook=\"review-body\">\n",
      "<span>Writing after use of one week. Charging quickly, camera quality, battery life overall good. We can go for this mobile</span>\n",
      "</span>, <span class=\"a-size-base review-text review-text-content\" data-hook=\"review-body\">\n",
      "<span>Using it since 4_5 days and I must say that it does not hang<br/>Camera is okayish</span>\n",
      "</span>, <span class=\"a-size-base review-text review-text-content\" data-hook=\"review-body\">\n",
      "<span>The features,the battery life,the sensors,the smoothness everything is good except the camera quality.The front camera is not as good as other one plus sets.</span>\n",
      "</span>, <span class=\"a-size-base review-text review-text-content\" data-hook=\"review-body\">\n",
      "<span>Good performance and sensitivity but dark images in low light zones. Semiamoled display</span>\n",
      "</span>, <span class=\"a-size-base review-text review-text-content\" data-hook=\"review-body\">\n",
      "<span>I think it's very good for to get ur battery charged fast</span>\n",
      "</span>, <span class=\"a-size-base review-text review-text-content\" data-hook=\"review-body\">\n",
      "<span>First things first, this is the phone who very easily beats any redmi phone camera in this price range. So we should ignore reviews of redmi agents.<br/>Rest are<br/>Pros :<br/>Clean UI,<br/>fast processing,<br/>fast charging 65 watts,<br/>display is very good,<br/>sound quality is good<br/>Cons:<br/>Back panel is plastic</span>\n",
      "</span>]\n"
     ]
    }
   ],
   "source": [
    "url=\"https://www.amazon.in/OnePlus-Nord-Bahamas-128GB-Storage/product-reviews/B09RG5R5FG/ref=cm_cr_arp_d_paging_btm_next_2?ie=UTF8&reviewerType=all_reviews&pageNumber=\"+str(2)\n",
    "response = requests.get(url,HEADERS)\n",
    "soup = bs(response.content,\"html.parser\")# creating soup object to iterate over the extracted content \n",
    "reviews = soup.findAll('span',attrs={\"class\",\"a-size-base review-text review-text-content\"})# Extracting the content under specific tags  \n",
    "print(reviews)"
   ]
  },
  {
   "cell_type": "code",
   "execution_count": 39,
   "id": "b32007be",
   "metadata": {},
   "outputs": [
    {
     "data": {
      "text/plain": [
       "<!DOCTYPE html>\n",
       "\n",
       "<!--[if lt IE 7]> <html lang=\"en-us\" class=\"a-no-js a-lt-ie9 a-lt-ie8 a-lt-ie7\"> <![endif]-->\n",
       "<!--[if IE 7]>    <html lang=\"en-us\" class=\"a-no-js a-lt-ie9 a-lt-ie8\"> <![endif]-->\n",
       "<!--[if IE 8]>    <html lang=\"en-us\" class=\"a-no-js a-lt-ie9\"> <![endif]-->\n",
       "<!--[if gt IE 8]><!-->\n",
       "<html class=\"a-no-js\" lang=\"en-us\"><!--<![endif]--><head>\n",
       "<meta content=\"text/html; charset=utf-8\" http-equiv=\"content-type\"/>\n",
       "<meta charset=\"utf-8\"/>\n",
       "<meta content=\"IE=edge,chrome=1\" http-equiv=\"X-UA-Compatible\"/>\n",
       "<title dir=\"ltr\">Amazon.in</title>\n",
       "<meta content=\"width=device-width\" name=\"viewport\"/>\n",
       "<link href=\"https://images-na.ssl-images-amazon.com/images/G/01/AUIClients/AmazonUI-3c913031596ca78a3768f4e934b1cc02ce238101.secure.min._V1_.css\" rel=\"stylesheet\"/>\n",
       "<script>\n",
       "\n",
       "if (true === true) {\n",
       "    var ue_t0 = (+ new Date()),\n",
       "        ue_csm = window,\n",
       "        ue = { t0: ue_t0, d: function() { return (+new Date() - ue_t0); } },\n",
       "        ue_furl = \"fls-eu.amazon.in\",\n",
       "        ue_mid = \"A21TJRUUN4KGV\",\n",
       "        ue_sid = (document.cookie.match(/session-id=([0-9-]+)/) || [])[1],\n",
       "        ue_sn = \"opfcaptcha.amazon.in\",\n",
       "        ue_id = '5GRFQ79WQ3V3YNKTKX4V';\n",
       "}\n",
       "</script>\n",
       "</head>\n",
       "<body>\n",
       "<!--\n",
       "        To discuss automated access to Amazon data please contact api-services-support@amazon.com.\n",
       "        For information about migrating to our APIs refer to our Marketplace APIs at https://developer.amazonservices.in/ref=rm_c_sv, or our Product Advertising API at https://affiliate-program.amazon.in/gp/advertising/api/detail/main.html/ref=rm_c_ac for advertising use cases.\n",
       "-->\n",
       "<!--\n",
       "Correios.DoNotSend\n",
       "-->\n",
       "<div class=\"a-container a-padding-double-large\" style=\"min-width:350px;padding:44px 0 !important\">\n",
       "<div class=\"a-row a-spacing-double-large\" style=\"width: 350px; margin: 0 auto\">\n",
       "<div class=\"a-row a-spacing-medium a-text-center\"><i class=\"a-icon a-logo\"></i></div>\n",
       "<div class=\"a-box a-alert a-alert-info a-spacing-base\">\n",
       "<div class=\"a-box-inner\">\n",
       "<i class=\"a-icon a-icon-alert\"></i>\n",
       "<h4>Enter the characters you see below</h4>\n",
       "<p class=\"a-last\">Sorry, we just need to make sure you're not a robot. For best results, please make sure your browser is accepting cookies.</p>\n",
       "</div>\n",
       "</div>\n",
       "<div class=\"a-section\">\n",
       "<div class=\"a-box a-color-offset-background\">\n",
       "<div class=\"a-box-inner a-padding-extra-large\">\n",
       "<form action=\"/errors/validateCaptcha\" method=\"get\" name=\"\">\n",
       "<input name=\"amzn\" type=\"hidden\" value=\"ci6S6xCrSBuzxlbF7Snrmw==\"/><input name=\"amzn-r\" type=\"hidden\" value=\"/OnePlus-Nord-Bahamas-128GB-Storage/product-reviews/B09RG5R5FG/ref=cm_cr_arp_d_paging_btm_next_2?ie=UTF8&amp;reviewerType=all_reviews&amp;pageNumber=1\"/>\n",
       "<div class=\"a-row a-spacing-large\">\n",
       "<div class=\"a-box\">\n",
       "<div class=\"a-box-inner\">\n",
       "<h4>Type the characters you see in this image:</h4>\n",
       "<!-- For automated access to price change or offer listing change events,\n",
       "                                             please refer to the MWS Subscription API:\n",
       "                                             https://developer.amazonservices.in/gp/mws/api.html/276-5247872-0590350?ie=UTF8&section=subscriptions&group=subscriptions&version=latest\n",
       "                                        -->\n",
       "<div class=\"a-row a-text-center\">\n",
       "<img src=\"https://images-na.ssl-images-amazon.com/captcha/huyzhwry/Captcha_udhjsyuisw.jpg\"/>\n",
       "</div>\n",
       "<div class=\"a-row a-spacing-base\">\n",
       "<div class=\"a-row\">\n",
       "<div class=\"a-column a-span6\">\n",
       "</div>\n",
       "<div class=\"a-column a-span6 a-span-last a-text-right\">\n",
       "<a onclick=\"window.location.reload()\">Try different image</a>\n",
       "</div>\n",
       "</div>\n",
       "<input autocapitalize=\"off\" autocomplete=\"off\" autocorrect=\"off\" class=\"a-span12\" id=\"captchacharacters\" name=\"field-keywords\" placeholder=\"Type characters\" spellcheck=\"false\" type=\"text\"/>\n",
       "</div>\n",
       "</div>\n",
       "</div>\n",
       "</div>\n",
       "<div class=\"a-section a-spacing-extra-large\">\n",
       "<div class=\"a-row\">\n",
       "<span class=\"a-button a-button-primary a-span12\">\n",
       "<span class=\"a-button-inner\">\n",
       "<button class=\"a-button-text\" type=\"submit\">Continue shopping</button>\n",
       "</span>\n",
       "</span>\n",
       "</div>\n",
       "</div>\n",
       "</form>\n",
       "</div>\n",
       "</div>\n",
       "</div>\n",
       "</div>\n",
       "<div class=\"a-divider a-divider-section\"><div class=\"a-divider-inner\"></div></div>\n",
       "<div class=\"a-text-center a-spacing-small a-size-mini\">\n",
       "<a href=\"https://www.amazon.in/gp/help/customer/display.html/ref=footer_cou?ie=UTF8&amp;nodeId=200545940\">Conditions of Use &amp; Sale</a>\n",
       "<span class=\"a-letter-space\"></span>\n",
       "<span class=\"a-letter-space\"></span>\n",
       "<span class=\"a-letter-space\"></span>\n",
       "<span class=\"a-letter-space\"></span>\n",
       "<a href=\"https://www.amazon.in/gp/help/customer/display.html/ref=footer_privacy?ie=UTF8&amp;nodeId=200534380\">Privacy Notice</a>\n",
       "</div>\n",
       "<div class=\"a-text-center a-size-mini a-color-secondary\">\n",
       "          © 1996-2015, Amazon.com, Inc. or its affiliates\n",
       "          <script>\n",
       "           if (true === true) {\n",
       "             document.write('<img src=\"https://fls-eu.amaz'+'on.in/'+'1/oc-csi/1/OP/requestId=5GRFQ79WQ3V3YNKTKX4V&js=1\" />');\n",
       "           };\n",
       "          </script>\n",
       "<noscript>\n",
       "<img src=\"https://fls-eu.amazon.in/1/oc-csi/1/OP/requestId=5GRFQ79WQ3V3YNKTKX4V&amp;js=0\">\n",
       "</img></noscript>\n",
       "</div>\n",
       "</div>\n",
       "<script>\n",
       "    if (true === true) {\n",
       "        var head = document.getElementsByTagName('head')[0],\n",
       "            prefix = \"https://images-eu.ssl-images-amazon.com/images/G/01/csminstrumentation/\",\n",
       "            elem = document.createElement(\"script\");\n",
       "        elem.src = prefix + \"csm-captcha-instrumentation.min.js\";\n",
       "        head.appendChild(elem);\n",
       "\n",
       "        elem = document.createElement(\"script\");\n",
       "        elem.src = prefix + \"rd-script-6d68177fa6061598e9509dc4b5bdd08d.js\";\n",
       "        head.appendChild(elem);\n",
       "    }\n",
       "    </script>\n",
       "</body></html>"
      ]
     },
     "execution_count": 39,
     "metadata": {},
     "output_type": "execute_result"
    }
   ],
   "source": [
    "soup"
   ]
  },
  {
   "cell_type": "code",
   "execution_count": null,
   "id": "c94fd57b",
   "metadata": {},
   "outputs": [],
   "source": [
    "# writng reviews in a text file \n",
    "with open(\"iphone.txt\",\"w\",encoding='utf8') as output:\n",
    "    output.write(str(iphone_reviews))"
   ]
  }
 ],
 "metadata": {
  "kernelspec": {
   "display_name": "Python 3 (ipykernel)",
   "language": "python",
   "name": "python3"
  },
  "language_info": {
   "codemirror_mode": {
    "name": "ipython",
    "version": 3
   },
   "file_extension": ".py",
   "mimetype": "text/x-python",
   "name": "python",
   "nbconvert_exporter": "python",
   "pygments_lexer": "ipython3",
   "version": "3.9.13"
  }
 },
 "nbformat": 4,
 "nbformat_minor": 5
}
