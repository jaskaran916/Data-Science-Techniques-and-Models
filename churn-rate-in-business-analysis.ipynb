{
 "cells": [
  {
   "cell_type": "markdown",
   "id": "d5ed192b",
   "metadata": {
    "id": "kJNOMyfcZ2aM",
    "papermill": {
     "duration": 0.002604,
     "end_time": "2025-04-20T13:57:33.383777",
     "exception": false,
     "start_time": "2025-04-20T13:57:33.381173",
     "status": "completed"
    },
    "tags": []
   },
   "source": [
    "\n",
    "#   **Project related to the application of machine learning in business analysis**"
   ]
  },
  {
   "cell_type": "code",
   "execution_count": 1,
   "id": "32bd4cbd",
   "metadata": {
    "execution": {
     "iopub.execute_input": "2025-04-20T13:57:33.390020Z",
     "iopub.status.busy": "2025-04-20T13:57:33.389592Z",
     "iopub.status.idle": "2025-04-20T13:57:35.635174Z",
     "shell.execute_reply": "2025-04-20T13:57:35.633327Z"
    },
    "id": "iehyd_ENYGBC",
    "outputId": "d27386c0-b32f-4a2b-e44b-d1e548043b53",
    "papermill": {
     "duration": 2.251153,
     "end_time": "2025-04-20T13:57:35.637065",
     "exception": false,
     "start_time": "2025-04-20T13:57:33.385912",
     "status": "completed"
    },
    "tags": []
   },
   "outputs": [
    {
     "name": "stdout",
     "output_type": "stream",
     "text": [
      "Saved as 'data/customer_churn_business.csv'\n"
     ]
    }
   ],
   "source": [
    "import pandas as pd\n",
    "import numpy as np\n",
    "import os\n",
    "\n",
    "np.random.seed(42)\n",
    "n_customers = 1000\n",
    "\n",
    "df = pd.DataFrame({\n",
    "    'customer_id': [f'CUST{i:04d}' for i in range(n_customers)],\n",
    "    'gender': np.random.choice(['Male', 'Female'], n_customers),\n",
    "    'senior_citizen': np.random.choice([0, 1], n_customers, p=[0.85, 0.15]),\n",
    "    'partner': np.random.choice(['Yes', 'No'], n_customers),\n",
    "    'dependents': np.random.choice(['Yes', 'No'], n_customers),\n",
    "    'tenure': np.random.randint(1, 72, n_customers),\n",
    "    'phone_service': np.random.choice(['Yes', 'No'], n_customers, p=[0.9, 0.1]),\n",
    "    'multiple_lines': np.random.choice(['Yes', 'No', 'No phone service'], n_customers),\n",
    "    'internet_service': np.random.choice(['DSL', 'Fiber optic', 'No'], n_customers),\n",
    "    'online_security': np.random.choice(['Yes', 'No', 'No internet service'], n_customers),\n",
    "    'online_backup': np.random.choice(['Yes', 'No', 'No internet service'], n_customers),\n",
    "    'device_protection': np.random.choice(['Yes', 'No', 'No internet service'], n_customers),\n",
    "    'tech_support': np.random.choice(['Yes', 'No', 'No internet service'], n_customers),\n",
    "    'streaming_tv': np.random.choice(['Yes', 'No', 'No internet service'], n_customers),\n",
    "    'streaming_movies': np.random.choice(['Yes', 'No', 'No internet service'], n_customers),\n",
    "    'contract': np.random.choice(['Month-to-month', 'One year', 'Two year'], n_customers),\n",
    "    'paperless_billing': np.random.choice(['Yes', 'No'], n_customers),\n",
    "    'payment_method': np.random.choice(['Electronic check', 'Mailed check', 'Bank transfer', 'Credit card'], n_customers),\n",
    "    'monthly_charges': np.round(np.random.normal(70, 30, n_customers), 2),\n",
    "    'churn': np.random.choice([0, 1], n_customers, p=[0.73, 0.27])\n",
    "})\n",
    "\n",
    "df['monthly_charges'] = df['monthly_charges'].clip(20, 120)\n",
    "df['total_charges'] = df['tenure'] * df['monthly_charges']\n",
    "\n",
    "os.makedirs('data', exist_ok=True)\n",
    "df.to_csv('data/customer_churn_business.csv', index=False)\n",
    "print(\"Saved as 'data/customer_churn_business.csv'\")\n"
   ]
  },
  {
   "cell_type": "code",
   "execution_count": 2,
   "id": "31d03769",
   "metadata": {
    "execution": {
     "iopub.execute_input": "2025-04-20T13:57:35.642581Z",
     "iopub.status.busy": "2025-04-20T13:57:35.642275Z",
     "iopub.status.idle": "2025-04-20T13:57:38.029713Z",
     "shell.execute_reply": "2025-04-20T13:57:38.028525Z"
    },
    "id": "agaE0b7HZ1LJ",
    "outputId": "6d251989-f024-42b9-8ad4-7ba803be0c23",
    "papermill": {
     "duration": 2.392434,
     "end_time": "2025-04-20T13:57:38.031739",
     "exception": false,
     "start_time": "2025-04-20T13:57:35.639305",
     "status": "completed"
    },
    "tags": []
   },
   "outputs": [
    {
     "name": "stdout",
     "output_type": "stream",
     "text": [
      "AUC-ROC: 0.5725095407290433\n",
      "AUC-PR: 0.3022038436331209\n",
      "              precision    recall  f1-score   support\n",
      "\n",
      "           0       0.74      1.00      0.85       149\n",
      "           1       1.00      0.00      0.00        51\n",
      "\n",
      "    accuracy                           0.74       200\n",
      "   macro avg       0.87      0.50      0.43       200\n",
      "weighted avg       0.81      0.74      0.64       200\n",
      "\n"
     ]
    }
   ],
   "source": [
    "import pandas as pd\n",
    "from sklearn.model_selection import train_test_split\n",
    "from sklearn.preprocessing import LabelEncoder, StandardScaler\n",
    "from sklearn.metrics import classification_report, roc_auc_score, average_precision_score\n",
    "import xgboost as xgb\n",
    "import warnings\n",
    "\n",
    "# Suppress UserWarning about use_label_encoder\n",
    "warnings.filterwarnings(\"ignore\", message=\"Parameters: { \\\"use_label_encoder\\\" } are not used.\")\n",
    "\n",
    "# Load data\n",
    "df = pd.read_csv('data/customer_churn_business.csv')\n",
    "df = df.drop(columns=['customer_id'])\n",
    "\n",
    "# Encode categorical features\n",
    "categorical_cols = df.select_dtypes(include=['object']).columns.tolist()\n",
    "df[categorical_cols] = df[categorical_cols].apply(LabelEncoder().fit_transform)\n",
    "\n",
    "# Features and target\n",
    "X = df.drop(columns=['churn'])\n",
    "y = df['churn']\n",
    "\n",
    "# Train-test split\n",
    "X_train, X_test, y_train, y_test = train_test_split(X, y, test_size=0.2, stratify=y, random_state=42)\n",
    "\n",
    "# Scale features\n",
    "scaler = StandardScaler()\n",
    "X_train_scaled = scaler.fit_transform(X_train)\n",
    "X_test_scaled = scaler.transform(X_test)\n",
    "\n",
    "# Optimized XGBoost model\n",
    "# Remove use_label_encoder\n",
    "model = xgb.XGBClassifier(\n",
    "    eval_metric='logloss',\n",
    "    n_estimators=100,\n",
    "    max_depth=4,\n",
    "    learning_rate=0.1,\n",
    "    subsample=0.8,\n",
    "    colsample_bytree=0.8,\n",
    "    random_state=42,\n",
    "    early_stopping_rounds=10\n",
    ")\n",
    "\n",
    "# Use eval_set in fit method\n",
    "model.fit(X_train_scaled, y_train, eval_set=[(X_test_scaled, y_test)], verbose=False)\n",
    "\n",
    "# Evaluation\n",
    "y_pred = model.predict(X_test_scaled)\n",
    "y_pred_proba = model.predict_proba(X_test_scaled)[:, 1]\n",
    "\n",
    "print(\"AUC-ROC:\", roc_auc_score(y_test, y_pred_proba))\n",
    "print(\"AUC-PR:\", average_precision_score(y_test, y_pred_proba))\n",
    "# Suppress UndefinedMetricWarning and handle zero division\n",
    "print(classification_report(y_test, y_pred, zero_division=1))"
   ]
  },
  {
   "cell_type": "code",
   "execution_count": null,
   "id": "484f48f4",
   "metadata": {
    "id": "MU9QSMdGbqmK",
    "papermill": {
     "duration": 0.00203,
     "end_time": "2025-04-20T13:57:38.035815",
     "exception": false,
     "start_time": "2025-04-20T13:57:38.033785",
     "status": "completed"
    },
    "tags": []
   },
   "outputs": [],
   "source": []
  }
 ],
 "metadata": {
  "colab": {
   "provenance": []
  },
  "kaggle": {
   "accelerator": "none",
   "dataSources": [
    {
     "isSourceIdPinned": true,
     "modelId": 311281,
     "modelInstanceId": 290573,
     "sourceId": 347944,
     "sourceType": "modelInstanceVersion"
    }
   ],
   "isGpuEnabled": false,
   "isInternetEnabled": true,
   "language": "python",
   "sourceType": "notebook"
  },
  "kernelspec": {
   "display_name": "Python 3 (ipykernel)",
   "language": "python",
   "name": "python3"
  },
  "language_info": {
   "codemirror_mode": {
    "name": "ipython",
    "version": 3
   },
   "file_extension": ".py",
   "mimetype": "text/x-python",
   "name": "python",
   "nbconvert_exporter": "python",
   "pygments_lexer": "ipython3",
   "version": "3.11.11"
  },
  "papermill": {
   "default_parameters": {},
   "duration": 11.023886,
   "end_time": "2025-04-20T13:57:38.759142",
   "environment_variables": {},
   "exception": null,
   "input_path": "__notebook__.ipynb",
   "output_path": "__notebook__.ipynb",
   "parameters": {},
   "start_time": "2025-04-20T13:57:27.735256",
   "version": "2.6.0"
  }
 },
 "nbformat": 4,
 "nbformat_minor": 5
}
