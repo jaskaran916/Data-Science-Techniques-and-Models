{
 "cells": [
  {
   "cell_type": "code",
   "execution_count": 1,
   "id": "ba10bb07",
   "metadata": {
    "execution": {
     "iopub.execute_input": "2024-11-30T22:32:17.302368Z",
     "iopub.status.busy": "2024-11-30T22:32:17.301950Z",
     "iopub.status.idle": "2024-11-30T22:32:18.299723Z",
     "shell.execute_reply": "2024-11-30T22:32:18.298674Z"
    },
    "papermill": {
     "duration": 1.00622,
     "end_time": "2024-11-30T22:32:18.302189",
     "exception": false,
     "start_time": "2024-11-30T22:32:17.295969",
     "status": "completed"
    },
    "tags": []
   },
   "outputs": [],
   "source": [
    "import numpy as np\n",
    "import pandas as pd"
   ]
  },
  {
   "cell_type": "code",
   "execution_count": 2,
   "id": "c52c3082",
   "metadata": {
    "execution": {
     "iopub.execute_input": "2024-11-30T22:32:18.310668Z",
     "iopub.status.busy": "2024-11-30T22:32:18.310120Z",
     "iopub.status.idle": "2024-11-30T22:32:18.354073Z",
     "shell.execute_reply": "2024-11-30T22:32:18.352868Z"
    },
    "papermill": {
     "duration": 0.051009,
     "end_time": "2024-11-30T22:32:18.356677",
     "exception": false,
     "start_time": "2024-11-30T22:32:18.305668",
     "status": "completed"
    },
    "tags": []
   },
   "outputs": [
    {
     "name": "stdout",
     "output_type": "stream",
     "text": [
      "     PassengerId  Survived  Pclass  \\\n",
      "0              1         0       3   \n",
      "1              2         1       1   \n",
      "2              3         1       3   \n",
      "3              4         1       1   \n",
      "4              5         0       3   \n",
      "..           ...       ...     ...   \n",
      "886          887         0       2   \n",
      "887          888         1       1   \n",
      "888          889         0       3   \n",
      "889          890         1       1   \n",
      "890          891         0       3   \n",
      "\n",
      "                                                  Name     Sex   Age  SibSp  \\\n",
      "0                              Braund, Mr. Owen Harris    male  22.0      1   \n",
      "1    Cumings, Mrs. John Bradley (Florence Briggs Th...  female  38.0      1   \n",
      "2                               Heikkinen, Miss. Laina  female  26.0      0   \n",
      "3         Futrelle, Mrs. Jacques Heath (Lily May Peel)  female  35.0      1   \n",
      "4                             Allen, Mr. William Henry    male  35.0      0   \n",
      "..                                                 ...     ...   ...    ...   \n",
      "886                              Montvila, Rev. Juozas    male  27.0      0   \n",
      "887                       Graham, Miss. Margaret Edith  female  19.0      0   \n",
      "888           Johnston, Miss. Catherine Helen \"Carrie\"  female   NaN      1   \n",
      "889                              Behr, Mr. Karl Howell    male  26.0      0   \n",
      "890                                Dooley, Mr. Patrick    male  32.0      0   \n",
      "\n",
      "     Parch            Ticket     Fare Cabin Embarked  \n",
      "0        0         A/5 21171   7.2500   NaN        S  \n",
      "1        0          PC 17599  71.2833   C85        C  \n",
      "2        0  STON/O2. 3101282   7.9250   NaN        S  \n",
      "3        0            113803  53.1000  C123        S  \n",
      "4        0            373450   8.0500   NaN        S  \n",
      "..     ...               ...      ...   ...      ...  \n",
      "886      0            211536  13.0000   NaN        S  \n",
      "887      0            112053  30.0000   B42        S  \n",
      "888      2        W./C. 6607  23.4500   NaN        S  \n",
      "889      0            111369  30.0000  C148        C  \n",
      "890      0            370376   7.7500   NaN        Q  \n",
      "\n",
      "[891 rows x 12 columns]\n"
     ]
    }
   ],
   "source": [
    "df = pd.read_csv(r'/kaggle/input/titanic-train-dataset/train.csv')\n",
    "print(df)"
   ]
  },
  {
   "cell_type": "code",
   "execution_count": 3,
   "id": "6bc7cd1a",
   "metadata": {
    "execution": {
     "iopub.execute_input": "2024-11-30T22:32:18.365339Z",
     "iopub.status.busy": "2024-11-30T22:32:18.364948Z",
     "iopub.status.idle": "2024-11-30T22:32:18.374311Z",
     "shell.execute_reply": "2024-11-30T22:32:18.373119Z"
    },
    "papermill": {
     "duration": 0.016069,
     "end_time": "2024-11-30T22:32:18.376422",
     "exception": false,
     "start_time": "2024-11-30T22:32:18.360353",
     "status": "completed"
    },
    "tags": []
   },
   "outputs": [
    {
     "name": "stdout",
     "output_type": "stream",
     "text": [
      "PassengerId      0\n",
      "Survived         0\n",
      "Pclass           0\n",
      "Name             0\n",
      "Sex              0\n",
      "Age            177\n",
      "SibSp            0\n",
      "Parch            0\n",
      "Ticket           0\n",
      "Fare             0\n",
      "Cabin          687\n",
      "Embarked         2\n",
      "dtype: int64\n"
     ]
    }
   ],
   "source": [
    "print(df.isnull().sum())"
   ]
  },
  {
   "cell_type": "code",
   "execution_count": 4,
   "id": "a2095645",
   "metadata": {
    "execution": {
     "iopub.execute_input": "2024-11-30T22:32:18.384764Z",
     "iopub.status.busy": "2024-11-30T22:32:18.384378Z",
     "iopub.status.idle": "2024-11-30T22:32:18.390866Z",
     "shell.execute_reply": "2024-11-30T22:32:18.389768Z"
    },
    "papermill": {
     "duration": 0.013405,
     "end_time": "2024-11-30T22:32:18.393272",
     "exception": false,
     "start_time": "2024-11-30T22:32:18.379867",
     "status": "completed"
    },
    "tags": []
   },
   "outputs": [
    {
     "name": "stdout",
     "output_type": "stream",
     "text": [
      "PassengerId      int64\n",
      "Survived         int64\n",
      "Pclass           int64\n",
      "Name            object\n",
      "Sex             object\n",
      "Age            float64\n",
      "SibSp            int64\n",
      "Parch            int64\n",
      "Ticket          object\n",
      "Fare           float64\n",
      "Cabin           object\n",
      "Embarked        object\n",
      "dtype: object\n"
     ]
    }
   ],
   "source": [
    "print(df.dtypes)"
   ]
  },
  {
   "cell_type": "code",
   "execution_count": 5,
   "id": "102ca711",
   "metadata": {
    "execution": {
     "iopub.execute_input": "2024-11-30T22:32:18.402051Z",
     "iopub.status.busy": "2024-11-30T22:32:18.401291Z",
     "iopub.status.idle": "2024-11-30T22:32:18.426538Z",
     "shell.execute_reply": "2024-11-30T22:32:18.425348Z"
    },
    "papermill": {
     "duration": 0.03222,
     "end_time": "2024-11-30T22:32:18.428914",
     "exception": false,
     "start_time": "2024-11-30T22:32:18.396694",
     "status": "completed"
    },
    "tags": []
   },
   "outputs": [
    {
     "name": "stdout",
     "output_type": "stream",
     "text": [
      "       PassengerId    Survived      Pclass         Age       SibSp  \\\n",
      "count   891.000000  891.000000  891.000000  714.000000  891.000000   \n",
      "mean    446.000000    0.383838    2.308642   29.699118    0.523008   \n",
      "std     257.353842    0.486592    0.836071   14.526497    1.102743   \n",
      "min       1.000000    0.000000    1.000000    0.420000    0.000000   \n",
      "25%     223.500000    0.000000    2.000000   20.125000    0.000000   \n",
      "50%     446.000000    0.000000    3.000000   28.000000    0.000000   \n",
      "75%     668.500000    1.000000    3.000000   38.000000    1.000000   \n",
      "max     891.000000    1.000000    3.000000   80.000000    8.000000   \n",
      "\n",
      "            Parch        Fare  \n",
      "count  891.000000  891.000000  \n",
      "mean     0.381594   32.204208  \n",
      "std      0.806057   49.693429  \n",
      "min      0.000000    0.000000  \n",
      "25%      0.000000    7.910400  \n",
      "50%      0.000000   14.454200  \n",
      "75%      0.000000   31.000000  \n",
      "max      6.000000  512.329200  \n"
     ]
    }
   ],
   "source": [
    "print(df.describe())"
   ]
  },
  {
   "cell_type": "code",
   "execution_count": 6,
   "id": "29d6863c",
   "metadata": {
    "execution": {
     "iopub.execute_input": "2024-11-30T22:32:18.437758Z",
     "iopub.status.busy": "2024-11-30T22:32:18.437327Z",
     "iopub.status.idle": "2024-11-30T22:32:18.447959Z",
     "shell.execute_reply": "2024-11-30T22:32:18.447021Z"
    },
    "papermill": {
     "duration": 0.01771,
     "end_time": "2024-11-30T22:32:18.450267",
     "exception": false,
     "start_time": "2024-11-30T22:32:18.432557",
     "status": "completed"
    },
    "tags": []
   },
   "outputs": [],
   "source": [
    "df['Age'] = df['Age'].fillna(df['Age'].median())\n",
    "df['Embarked'] = df['Embarked'].fillna(df['Embarked'].mode().iloc[0])\n",
    "df['Pclass'] = df['Pclass'].astype('category')"
   ]
  },
  {
   "cell_type": "code",
   "execution_count": 7,
   "id": "f59deab9",
   "metadata": {
    "execution": {
     "iopub.execute_input": "2024-11-30T22:32:18.458997Z",
     "iopub.status.busy": "2024-11-30T22:32:18.458644Z",
     "iopub.status.idle": "2024-11-30T22:32:18.468875Z",
     "shell.execute_reply": "2024-11-30T22:32:18.467864Z"
    },
    "papermill": {
     "duration": 0.017567,
     "end_time": "2024-11-30T22:32:18.471453",
     "exception": false,
     "start_time": "2024-11-30T22:32:18.453886",
     "status": "completed"
    },
    "tags": []
   },
   "outputs": [],
   "source": [
    "df.drop_duplicates(inplace = True)"
   ]
  },
  {
   "cell_type": "code",
   "execution_count": 8,
   "id": "e5d61e49",
   "metadata": {
    "execution": {
     "iopub.execute_input": "2024-11-30T22:32:18.480901Z",
     "iopub.status.busy": "2024-11-30T22:32:18.480143Z",
     "iopub.status.idle": "2024-11-30T22:32:18.487075Z",
     "shell.execute_reply": "2024-11-30T22:32:18.486089Z"
    },
    "papermill": {
     "duration": 0.014172,
     "end_time": "2024-11-30T22:32:18.489456",
     "exception": false,
     "start_time": "2024-11-30T22:32:18.475284",
     "status": "completed"
    },
    "tags": []
   },
   "outputs": [],
   "source": [
    "df.loc[df['Age'] < 0, 'Age'] = df['Age'].median()"
   ]
  },
  {
   "cell_type": "code",
   "execution_count": 9,
   "id": "fd8b2494",
   "metadata": {
    "execution": {
     "iopub.execute_input": "2024-11-30T22:32:18.498843Z",
     "iopub.status.busy": "2024-11-30T22:32:18.497805Z",
     "iopub.status.idle": "2024-11-30T22:32:18.505873Z",
     "shell.execute_reply": "2024-11-30T22:32:18.504480Z"
    },
    "papermill": {
     "duration": 0.015323,
     "end_time": "2024-11-30T22:32:18.508392",
     "exception": false,
     "start_time": "2024-11-30T22:32:18.493069",
     "status": "completed"
    },
    "tags": []
   },
   "outputs": [
    {
     "name": "stdout",
     "output_type": "stream",
     "text": [
      "PassengerId      0\n",
      "Survived         0\n",
      "Pclass           0\n",
      "Name             0\n",
      "Sex              0\n",
      "Age              0\n",
      "SibSp            0\n",
      "Parch            0\n",
      "Ticket           0\n",
      "Fare             0\n",
      "Cabin          687\n",
      "Embarked         0\n",
      "dtype: int64\n"
     ]
    }
   ],
   "source": [
    "print(df.isnull().sum())"
   ]
  },
  {
   "cell_type": "code",
   "execution_count": 10,
   "id": "5c45e393",
   "metadata": {
    "execution": {
     "iopub.execute_input": "2024-11-30T22:32:18.517441Z",
     "iopub.status.busy": "2024-11-30T22:32:18.517051Z",
     "iopub.status.idle": "2024-11-30T22:32:18.523347Z",
     "shell.execute_reply": "2024-11-30T22:32:18.522171Z"
    },
    "papermill": {
     "duration": 0.014,
     "end_time": "2024-11-30T22:32:18.526108",
     "exception": false,
     "start_time": "2024-11-30T22:32:18.512108",
     "status": "completed"
    },
    "tags": []
   },
   "outputs": [
    {
     "name": "stdout",
     "output_type": "stream",
     "text": [
      "PassengerId       int64\n",
      "Survived          int64\n",
      "Pclass         category\n",
      "Name             object\n",
      "Sex              object\n",
      "Age             float64\n",
      "SibSp             int64\n",
      "Parch             int64\n",
      "Ticket           object\n",
      "Fare            float64\n",
      "Cabin            object\n",
      "Embarked         object\n",
      "dtype: object\n"
     ]
    }
   ],
   "source": [
    "print(df.dtypes)"
   ]
  },
  {
   "cell_type": "code",
   "execution_count": 11,
   "id": "f63ebced",
   "metadata": {
    "execution": {
     "iopub.execute_input": "2024-11-30T22:32:18.534953Z",
     "iopub.status.busy": "2024-11-30T22:32:18.534597Z",
     "iopub.status.idle": "2024-11-30T22:32:18.555807Z",
     "shell.execute_reply": "2024-11-30T22:32:18.554567Z"
    },
    "papermill": {
     "duration": 0.028487,
     "end_time": "2024-11-30T22:32:18.558280",
     "exception": false,
     "start_time": "2024-11-30T22:32:18.529793",
     "status": "completed"
    },
    "tags": []
   },
   "outputs": [
    {
     "name": "stdout",
     "output_type": "stream",
     "text": [
      "       PassengerId    Survived         Age       SibSp       Parch        Fare\n",
      "count   891.000000  891.000000  891.000000  891.000000  891.000000  891.000000\n",
      "mean    446.000000    0.383838   29.361582    0.523008    0.381594   32.204208\n",
      "std     257.353842    0.486592   13.019697    1.102743    0.806057   49.693429\n",
      "min       1.000000    0.000000    0.420000    0.000000    0.000000    0.000000\n",
      "25%     223.500000    0.000000   22.000000    0.000000    0.000000    7.910400\n",
      "50%     446.000000    0.000000   28.000000    0.000000    0.000000   14.454200\n",
      "75%     668.500000    1.000000   35.000000    1.000000    0.000000   31.000000\n",
      "max     891.000000    1.000000   80.000000    8.000000    6.000000  512.329200\n"
     ]
    }
   ],
   "source": [
    "print(df.describe())"
   ]
  },
  {
   "cell_type": "code",
   "execution_count": 12,
   "id": "4b0a5c09",
   "metadata": {
    "execution": {
     "iopub.execute_input": "2024-11-30T22:32:18.567623Z",
     "iopub.status.busy": "2024-11-30T22:32:18.567191Z",
     "iopub.status.idle": "2024-11-30T22:32:18.578261Z",
     "shell.execute_reply": "2024-11-30T22:32:18.577166Z"
    },
    "papermill": {
     "duration": 0.018255,
     "end_time": "2024-11-30T22:32:18.580398",
     "exception": false,
     "start_time": "2024-11-30T22:32:18.562143",
     "status": "completed"
    },
    "tags": []
   },
   "outputs": [
    {
     "name": "stdout",
     "output_type": "stream",
     "text": [
      "   PassengerId  Survived Pclass  \\\n",
      "0            1         0      3   \n",
      "1            2         1      1   \n",
      "2            3         1      3   \n",
      "3            4         1      1   \n",
      "4            5         0      3   \n",
      "\n",
      "                                                Name     Sex   Age  SibSp  \\\n",
      "0                            Braund, Mr. Owen Harris    male  22.0      1   \n",
      "1  Cumings, Mrs. John Bradley (Florence Briggs Th...  female  38.0      1   \n",
      "2                             Heikkinen, Miss. Laina  female  26.0      0   \n",
      "3       Futrelle, Mrs. Jacques Heath (Lily May Peel)  female  35.0      1   \n",
      "4                           Allen, Mr. William Henry    male  35.0      0   \n",
      "\n",
      "   Parch            Ticket     Fare Cabin Embarked  \n",
      "0      0         A/5 21171   7.2500   NaN        S  \n",
      "1      0          PC 17599  71.2833   C85        C  \n",
      "2      0  STON/O2. 3101282   7.9250   NaN        S  \n",
      "3      0            113803  53.1000  C123        S  \n",
      "4      0            373450   8.0500   NaN        S  \n"
     ]
    }
   ],
   "source": [
    "print(df.head())"
   ]
  },
  {
   "cell_type": "code",
   "execution_count": null,
   "id": "288b8df4",
   "metadata": {
    "papermill": {
     "duration": 0.003508,
     "end_time": "2024-11-30T22:32:18.588726",
     "exception": false,
     "start_time": "2024-11-30T22:32:18.585218",
     "status": "completed"
    },
    "tags": []
   },
   "outputs": [],
   "source": []
  }
 ],
 "metadata": {
  "kaggle": {
   "accelerator": "none",
   "dataSources": [
    {
     "datasetId": 5768596,
     "sourceId": 9483215,
     "sourceType": "datasetVersion"
    }
   ],
   "dockerImageVersionId": 30775,
   "isGpuEnabled": false,
   "isInternetEnabled": true,
   "language": "python",
   "sourceType": "notebook"
  },
  "kernelspec": {
   "display_name": "Python 3",
   "language": "python",
   "name": "python3"
  },
  "language_info": {
   "codemirror_mode": {
    "name": "ipython",
    "version": 3
   },
   "file_extension": ".py",
   "mimetype": "text/x-python",
   "name": "python",
   "nbconvert_exporter": "python",
   "pygments_lexer": "ipython3",
   "version": "3.10.14"
  },
  "papermill": {
   "default_parameters": {},
   "duration": 4.70981,
   "end_time": "2024-11-30T22:32:19.114731",
   "environment_variables": {},
   "exception": null,
   "input_path": "__notebook__.ipynb",
   "output_path": "__notebook__.ipynb",
   "parameters": {},
   "start_time": "2024-11-30T22:32:14.404921",
   "version": "2.6.0"
  }
 },
 "nbformat": 4,
 "nbformat_minor": 5
}
