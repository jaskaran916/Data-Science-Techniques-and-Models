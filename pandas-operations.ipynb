{
 "cells": [
  {
   "cell_type": "code",
   "execution_count": 1,
   "id": "10338df9",
   "metadata": {
    "execution": {
     "iopub.execute_input": "2024-11-30T23:39:38.102697Z",
     "iopub.status.busy": "2024-11-30T23:39:38.102308Z",
     "iopub.status.idle": "2024-11-30T23:39:38.983892Z",
     "shell.execute_reply": "2024-11-30T23:39:38.982828Z"
    },
    "papermill": {
     "duration": 0.889622,
     "end_time": "2024-11-30T23:39:38.986460",
     "exception": false,
     "start_time": "2024-11-30T23:39:38.096838",
     "status": "completed"
    },
    "tags": []
   },
   "outputs": [],
   "source": [
    "import numpy as np\n",
    "import pandas as pd"
   ]
  },
  {
   "cell_type": "code",
   "execution_count": 2,
   "id": "5b43bd37",
   "metadata": {
    "execution": {
     "iopub.execute_input": "2024-11-30T23:39:38.995443Z",
     "iopub.status.busy": "2024-11-30T23:39:38.994456Z",
     "iopub.status.idle": "2024-11-30T23:39:39.038040Z",
     "shell.execute_reply": "2024-11-30T23:39:39.036798Z"
    },
    "papermill": {
     "duration": 0.050489,
     "end_time": "2024-11-30T23:39:39.040454",
     "exception": false,
     "start_time": "2024-11-30T23:39:38.989965",
     "status": "completed"
    },
    "tags": []
   },
   "outputs": [
    {
     "name": "stdout",
     "output_type": "stream",
     "text": [
      "     PassengerId  Survived  Pclass  \\\n",
      "0              1         0       3   \n",
      "1              2         1       1   \n",
      "2              3         1       3   \n",
      "3              4         1       1   \n",
      "4              5         0       3   \n",
      "..           ...       ...     ...   \n",
      "886          887         0       2   \n",
      "887          888         1       1   \n",
      "888          889         0       3   \n",
      "889          890         1       1   \n",
      "890          891         0       3   \n",
      "\n",
      "                                                  Name     Sex   Age  SibSp  \\\n",
      "0                              Braund, Mr. Owen Harris    male  22.0      1   \n",
      "1    Cumings, Mrs. John Bradley (Florence Briggs Th...  female  38.0      1   \n",
      "2                               Heikkinen, Miss. Laina  female  26.0      0   \n",
      "3         Futrelle, Mrs. Jacques Heath (Lily May Peel)  female  35.0      1   \n",
      "4                             Allen, Mr. William Henry    male  35.0      0   \n",
      "..                                                 ...     ...   ...    ...   \n",
      "886                              Montvila, Rev. Juozas    male  27.0      0   \n",
      "887                       Graham, Miss. Margaret Edith  female  19.0      0   \n",
      "888           Johnston, Miss. Catherine Helen \"Carrie\"  female   NaN      1   \n",
      "889                              Behr, Mr. Karl Howell    male  26.0      0   \n",
      "890                                Dooley, Mr. Patrick    male  32.0      0   \n",
      "\n",
      "     Parch            Ticket     Fare Cabin Embarked  \n",
      "0        0         A/5 21171   7.2500   NaN        S  \n",
      "1        0          PC 17599  71.2833   C85        C  \n",
      "2        0  STON/O2. 3101282   7.9250   NaN        S  \n",
      "3        0            113803  53.1000  C123        S  \n",
      "4        0            373450   8.0500   NaN        S  \n",
      "..     ...               ...      ...   ...      ...  \n",
      "886      0            211536  13.0000   NaN        S  \n",
      "887      0            112053  30.0000   B42        S  \n",
      "888      2        W./C. 6607  23.4500   NaN        S  \n",
      "889      0            111369  30.0000  C148        C  \n",
      "890      0            370376   7.7500   NaN        Q  \n",
      "\n",
      "[891 rows x 12 columns]\n"
     ]
    }
   ],
   "source": [
    "df = pd.read_csv(r'/kaggle/input/titanic-train-dataset/train.csv')\n",
    "print(df)"
   ]
  },
  {
   "cell_type": "code",
   "execution_count": 3,
   "id": "09254c1f",
   "metadata": {
    "execution": {
     "iopub.execute_input": "2024-11-30T23:39:39.049486Z",
     "iopub.status.busy": "2024-11-30T23:39:39.048589Z",
     "iopub.status.idle": "2024-11-30T23:39:39.058427Z",
     "shell.execute_reply": "2024-11-30T23:39:39.057169Z"
    },
    "papermill": {
     "duration": 0.016674,
     "end_time": "2024-11-30T23:39:39.060651",
     "exception": false,
     "start_time": "2024-11-30T23:39:39.043977",
     "status": "completed"
    },
    "tags": []
   },
   "outputs": [
    {
     "name": "stdout",
     "output_type": "stream",
     "text": [
      "PassengerId      0\n",
      "Survived         0\n",
      "Pclass           0\n",
      "Name             0\n",
      "Sex              0\n",
      "Age            177\n",
      "SibSp            0\n",
      "Parch            0\n",
      "Ticket           0\n",
      "Fare             0\n",
      "Cabin          687\n",
      "Embarked         2\n",
      "dtype: int64\n"
     ]
    }
   ],
   "source": [
    "print(df.isnull().sum())"
   ]
  },
  {
   "cell_type": "code",
   "execution_count": 4,
   "id": "46464f20",
   "metadata": {
    "execution": {
     "iopub.execute_input": "2024-11-30T23:39:39.069154Z",
     "iopub.status.busy": "2024-11-30T23:39:39.068744Z",
     "iopub.status.idle": "2024-11-30T23:39:39.075414Z",
     "shell.execute_reply": "2024-11-30T23:39:39.074273Z"
    },
    "papermill": {
     "duration": 0.013771,
     "end_time": "2024-11-30T23:39:39.077926",
     "exception": false,
     "start_time": "2024-11-30T23:39:39.064155",
     "status": "completed"
    },
    "tags": []
   },
   "outputs": [
    {
     "name": "stdout",
     "output_type": "stream",
     "text": [
      "PassengerId      int64\n",
      "Survived         int64\n",
      "Pclass           int64\n",
      "Name            object\n",
      "Sex             object\n",
      "Age            float64\n",
      "SibSp            int64\n",
      "Parch            int64\n",
      "Ticket          object\n",
      "Fare           float64\n",
      "Cabin           object\n",
      "Embarked        object\n",
      "dtype: object\n"
     ]
    }
   ],
   "source": [
    "print(df.dtypes)"
   ]
  },
  {
   "cell_type": "code",
   "execution_count": 5,
   "id": "5f334b35",
   "metadata": {
    "execution": {
     "iopub.execute_input": "2024-11-30T23:39:39.086658Z",
     "iopub.status.busy": "2024-11-30T23:39:39.086281Z",
     "iopub.status.idle": "2024-11-30T23:39:39.111843Z",
     "shell.execute_reply": "2024-11-30T23:39:39.110695Z"
    },
    "papermill": {
     "duration": 0.032754,
     "end_time": "2024-11-30T23:39:39.114269",
     "exception": false,
     "start_time": "2024-11-30T23:39:39.081515",
     "status": "completed"
    },
    "tags": []
   },
   "outputs": [
    {
     "name": "stdout",
     "output_type": "stream",
     "text": [
      "       PassengerId    Survived      Pclass         Age       SibSp  \\\n",
      "count   891.000000  891.000000  891.000000  714.000000  891.000000   \n",
      "mean    446.000000    0.383838    2.308642   29.699118    0.523008   \n",
      "std     257.353842    0.486592    0.836071   14.526497    1.102743   \n",
      "min       1.000000    0.000000    1.000000    0.420000    0.000000   \n",
      "25%     223.500000    0.000000    2.000000   20.125000    0.000000   \n",
      "50%     446.000000    0.000000    3.000000   28.000000    0.000000   \n",
      "75%     668.500000    1.000000    3.000000   38.000000    1.000000   \n",
      "max     891.000000    1.000000    3.000000   80.000000    8.000000   \n",
      "\n",
      "            Parch        Fare  \n",
      "count  891.000000  891.000000  \n",
      "mean     0.381594   32.204208  \n",
      "std      0.806057   49.693429  \n",
      "min      0.000000    0.000000  \n",
      "25%      0.000000    7.910400  \n",
      "50%      0.000000   14.454200  \n",
      "75%      0.000000   31.000000  \n",
      "max      6.000000  512.329200  \n"
     ]
    }
   ],
   "source": [
    "print(df.describe())"
   ]
  },
  {
   "cell_type": "code",
   "execution_count": 6,
   "id": "849d50a5",
   "metadata": {
    "execution": {
     "iopub.execute_input": "2024-11-30T23:39:39.122961Z",
     "iopub.status.busy": "2024-11-30T23:39:39.122563Z",
     "iopub.status.idle": "2024-11-30T23:39:39.133743Z",
     "shell.execute_reply": "2024-11-30T23:39:39.132834Z"
    },
    "papermill": {
     "duration": 0.018164,
     "end_time": "2024-11-30T23:39:39.136072",
     "exception": false,
     "start_time": "2024-11-30T23:39:39.117908",
     "status": "completed"
    },
    "tags": []
   },
   "outputs": [],
   "source": [
    "df['Age'] = df['Age'].fillna(df['Age'].median())\n",
    "df['Embarked'] = df['Embarked'].fillna(df['Embarked'].mode().iloc[0])\n",
    "df['Pclass'] = df['Pclass'].astype('category')"
   ]
  },
  {
   "cell_type": "code",
   "execution_count": 7,
   "id": "edf6c2db",
   "metadata": {
    "execution": {
     "iopub.execute_input": "2024-11-30T23:39:39.144828Z",
     "iopub.status.busy": "2024-11-30T23:39:39.144405Z",
     "iopub.status.idle": "2024-11-30T23:39:39.154038Z",
     "shell.execute_reply": "2024-11-30T23:39:39.153169Z"
    },
    "papermill": {
     "duration": 0.016852,
     "end_time": "2024-11-30T23:39:39.156509",
     "exception": false,
     "start_time": "2024-11-30T23:39:39.139657",
     "status": "completed"
    },
    "tags": []
   },
   "outputs": [],
   "source": [
    "df.drop_duplicates(inplace = True)"
   ]
  },
  {
   "cell_type": "code",
   "execution_count": 8,
   "id": "3bca57bd",
   "metadata": {
    "execution": {
     "iopub.execute_input": "2024-11-30T23:39:39.165488Z",
     "iopub.status.busy": "2024-11-30T23:39:39.165116Z",
     "iopub.status.idle": "2024-11-30T23:39:39.172053Z",
     "shell.execute_reply": "2024-11-30T23:39:39.170930Z"
    },
    "papermill": {
     "duration": 0.014022,
     "end_time": "2024-11-30T23:39:39.174296",
     "exception": false,
     "start_time": "2024-11-30T23:39:39.160274",
     "status": "completed"
    },
    "tags": []
   },
   "outputs": [],
   "source": [
    "df.loc[df['Age'] < 0, 'Age'] = df['Age'].median()"
   ]
  },
  {
   "cell_type": "code",
   "execution_count": 9,
   "id": "bfd945e1",
   "metadata": {
    "execution": {
     "iopub.execute_input": "2024-11-30T23:39:39.182806Z",
     "iopub.status.busy": "2024-11-30T23:39:39.182391Z",
     "iopub.status.idle": "2024-11-30T23:39:39.189535Z",
     "shell.execute_reply": "2024-11-30T23:39:39.188487Z"
    },
    "papermill": {
     "duration": 0.013865,
     "end_time": "2024-11-30T23:39:39.191747",
     "exception": false,
     "start_time": "2024-11-30T23:39:39.177882",
     "status": "completed"
    },
    "tags": []
   },
   "outputs": [
    {
     "name": "stdout",
     "output_type": "stream",
     "text": [
      "PassengerId      0\n",
      "Survived         0\n",
      "Pclass           0\n",
      "Name             0\n",
      "Sex              0\n",
      "Age              0\n",
      "SibSp            0\n",
      "Parch            0\n",
      "Ticket           0\n",
      "Fare             0\n",
      "Cabin          687\n",
      "Embarked         0\n",
      "dtype: int64\n"
     ]
    }
   ],
   "source": [
    "print(df.isnull().sum())"
   ]
  },
  {
   "cell_type": "code",
   "execution_count": 10,
   "id": "1257fdb1",
   "metadata": {
    "execution": {
     "iopub.execute_input": "2024-11-30T23:39:39.201285Z",
     "iopub.status.busy": "2024-11-30T23:39:39.200352Z",
     "iopub.status.idle": "2024-11-30T23:39:39.207731Z",
     "shell.execute_reply": "2024-11-30T23:39:39.206506Z"
    },
    "papermill": {
     "duration": 0.014634,
     "end_time": "2024-11-30T23:39:39.210033",
     "exception": false,
     "start_time": "2024-11-30T23:39:39.195399",
     "status": "completed"
    },
    "tags": []
   },
   "outputs": [
    {
     "name": "stdout",
     "output_type": "stream",
     "text": [
      "PassengerId       int64\n",
      "Survived          int64\n",
      "Pclass         category\n",
      "Name             object\n",
      "Sex              object\n",
      "Age             float64\n",
      "SibSp             int64\n",
      "Parch             int64\n",
      "Ticket           object\n",
      "Fare            float64\n",
      "Cabin            object\n",
      "Embarked         object\n",
      "dtype: object\n"
     ]
    }
   ],
   "source": [
    "print(df.dtypes)"
   ]
  },
  {
   "cell_type": "code",
   "execution_count": 11,
   "id": "d0917b93",
   "metadata": {
    "execution": {
     "iopub.execute_input": "2024-11-30T23:39:39.219329Z",
     "iopub.status.busy": "2024-11-30T23:39:39.218923Z",
     "iopub.status.idle": "2024-11-30T23:39:39.241060Z",
     "shell.execute_reply": "2024-11-30T23:39:39.239752Z"
    },
    "papermill": {
     "duration": 0.029421,
     "end_time": "2024-11-30T23:39:39.243345",
     "exception": false,
     "start_time": "2024-11-30T23:39:39.213924",
     "status": "completed"
    },
    "tags": []
   },
   "outputs": [
    {
     "name": "stdout",
     "output_type": "stream",
     "text": [
      "       PassengerId    Survived         Age       SibSp       Parch        Fare\n",
      "count   891.000000  891.000000  891.000000  891.000000  891.000000  891.000000\n",
      "mean    446.000000    0.383838   29.361582    0.523008    0.381594   32.204208\n",
      "std     257.353842    0.486592   13.019697    1.102743    0.806057   49.693429\n",
      "min       1.000000    0.000000    0.420000    0.000000    0.000000    0.000000\n",
      "25%     223.500000    0.000000   22.000000    0.000000    0.000000    7.910400\n",
      "50%     446.000000    0.000000   28.000000    0.000000    0.000000   14.454200\n",
      "75%     668.500000    1.000000   35.000000    1.000000    0.000000   31.000000\n",
      "max     891.000000    1.000000   80.000000    8.000000    6.000000  512.329200\n"
     ]
    }
   ],
   "source": [
    "print(df.describe())"
   ]
  },
  {
   "cell_type": "code",
   "execution_count": 12,
   "id": "f321b7d9",
   "metadata": {
    "execution": {
     "iopub.execute_input": "2024-11-30T23:39:39.252728Z",
     "iopub.status.busy": "2024-11-30T23:39:39.252260Z",
     "iopub.status.idle": "2024-11-30T23:39:39.263074Z",
     "shell.execute_reply": "2024-11-30T23:39:39.261857Z"
    },
    "papermill": {
     "duration": 0.018399,
     "end_time": "2024-11-30T23:39:39.265542",
     "exception": false,
     "start_time": "2024-11-30T23:39:39.247143",
     "status": "completed"
    },
    "tags": []
   },
   "outputs": [
    {
     "name": "stdout",
     "output_type": "stream",
     "text": [
      "   PassengerId  Survived Pclass  \\\n",
      "0            1         0      3   \n",
      "1            2         1      1   \n",
      "2            3         1      3   \n",
      "3            4         1      1   \n",
      "4            5         0      3   \n",
      "\n",
      "                                                Name     Sex   Age  SibSp  \\\n",
      "0                            Braund, Mr. Owen Harris    male  22.0      1   \n",
      "1  Cumings, Mrs. John Bradley (Florence Briggs Th...  female  38.0      1   \n",
      "2                             Heikkinen, Miss. Laina  female  26.0      0   \n",
      "3       Futrelle, Mrs. Jacques Heath (Lily May Peel)  female  35.0      1   \n",
      "4                           Allen, Mr. William Henry    male  35.0      0   \n",
      "\n",
      "   Parch            Ticket     Fare Cabin Embarked  \n",
      "0      0         A/5 21171   7.2500   NaN        S  \n",
      "1      0          PC 17599  71.2833   C85        C  \n",
      "2      0  STON/O2. 3101282   7.9250   NaN        S  \n",
      "3      0            113803  53.1000  C123        S  \n",
      "4      0            373450   8.0500   NaN        S  \n"
     ]
    }
   ],
   "source": [
    "print(df.head())"
   ]
  },
  {
   "cell_type": "code",
   "execution_count": null,
   "id": "cb4ab00c",
   "metadata": {
    "papermill": {
     "duration": 0.004705,
     "end_time": "2024-11-30T23:39:39.275308",
     "exception": false,
     "start_time": "2024-11-30T23:39:39.270603",
     "status": "completed"
    },
    "tags": []
   },
   "outputs": [],
   "source": []
  }
 ],
 "metadata": {
  "kaggle": {
   "accelerator": "none",
   "dataSources": [
    {
     "datasetId": 5768596,
     "sourceId": 9483215,
     "sourceType": "datasetVersion"
    }
   ],
   "dockerImageVersionId": 30775,
   "isGpuEnabled": false,
   "isInternetEnabled": true,
   "language": "python",
   "sourceType": "notebook"
  },
  "kernelspec": {
   "display_name": "Python 3",
   "language": "python",
   "name": "python3"
  },
  "language_info": {
   "codemirror_mode": {
    "name": "ipython",
    "version": 3
   },
   "file_extension": ".py",
   "mimetype": "text/x-python",
   "name": "python",
   "nbconvert_exporter": "python",
   "pygments_lexer": "ipython3",
   "version": "3.10.14"
  },
  "papermill": {
   "default_parameters": {},
   "duration": 4.423229,
   "end_time": "2024-11-30T23:39:39.801353",
   "environment_variables": {},
   "exception": null,
   "input_path": "__notebook__.ipynb",
   "output_path": "__notebook__.ipynb",
   "parameters": {},
   "start_time": "2024-11-30T23:39:35.378124",
   "version": "2.6.0"
  }
 },
 "nbformat": 4,
 "nbformat_minor": 5
}
